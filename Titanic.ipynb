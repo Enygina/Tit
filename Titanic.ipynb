{
 "cells": [
  {
   "cell_type": "markdown",
   "id": "caa991ae",
   "metadata": {},
   "source": [
    "# Титанак"
   ]
  },
  {
   "cell_type": "code",
   "execution_count": 1,
   "id": "a62281b5",
   "metadata": {},
   "outputs": [],
   "source": [
    "import pandas as pd\n",
    "import seaborn as sns\n",
    "import plotly.express as px\n",
    "import matplotlib.pyplot as plt\n",
    "import re\n",
    "import numpy as np"
   ]
  },
  {
   "cell_type": "markdown",
   "id": "0bd46c16",
   "metadata": {},
   "source": [
    "## Знакомство с данными"
   ]
  },
  {
   "cell_type": "code",
   "execution_count": 2,
   "id": "3f24721d",
   "metadata": {
    "scrolled": true
   },
   "outputs": [],
   "source": [
    "df = pd.read_csv('train (2).csv')"
   ]
  },
  {
   "cell_type": "code",
   "execution_count": 3,
   "id": "2b869706",
   "metadata": {},
   "outputs": [
    {
     "data": {
      "text/html": [
       "<div>\n",
       "<style scoped>\n",
       "    .dataframe tbody tr th:only-of-type {\n",
       "        vertical-align: middle;\n",
       "    }\n",
       "\n",
       "    .dataframe tbody tr th {\n",
       "        vertical-align: top;\n",
       "    }\n",
       "\n",
       "    .dataframe thead th {\n",
       "        text-align: right;\n",
       "    }\n",
       "</style>\n",
       "<table border=\"1\" class=\"dataframe\">\n",
       "  <thead>\n",
       "    <tr style=\"text-align: right;\">\n",
       "      <th></th>\n",
       "      <th>PassengerId</th>\n",
       "      <th>Survived</th>\n",
       "      <th>Pclass</th>\n",
       "      <th>Name</th>\n",
       "      <th>Sex</th>\n",
       "      <th>Age</th>\n",
       "      <th>SibSp</th>\n",
       "      <th>Parch</th>\n",
       "      <th>Ticket</th>\n",
       "      <th>Fare</th>\n",
       "      <th>Cabin</th>\n",
       "      <th>Embarked</th>\n",
       "    </tr>\n",
       "  </thead>\n",
       "  <tbody>\n",
       "    <tr>\n",
       "      <th>0</th>\n",
       "      <td>1</td>\n",
       "      <td>0</td>\n",
       "      <td>3</td>\n",
       "      <td>Braund, Mr. Owen Harris</td>\n",
       "      <td>male</td>\n",
       "      <td>22.0</td>\n",
       "      <td>1</td>\n",
       "      <td>0</td>\n",
       "      <td>A/5 21171</td>\n",
       "      <td>7.2500</td>\n",
       "      <td>NaN</td>\n",
       "      <td>S</td>\n",
       "    </tr>\n",
       "    <tr>\n",
       "      <th>1</th>\n",
       "      <td>2</td>\n",
       "      <td>1</td>\n",
       "      <td>1</td>\n",
       "      <td>Cumings, Mrs. John Bradley (Florence Briggs Th...</td>\n",
       "      <td>female</td>\n",
       "      <td>38.0</td>\n",
       "      <td>1</td>\n",
       "      <td>0</td>\n",
       "      <td>PC 17599</td>\n",
       "      <td>71.2833</td>\n",
       "      <td>C85</td>\n",
       "      <td>C</td>\n",
       "    </tr>\n",
       "    <tr>\n",
       "      <th>2</th>\n",
       "      <td>3</td>\n",
       "      <td>1</td>\n",
       "      <td>3</td>\n",
       "      <td>Heikkinen, Miss. Laina</td>\n",
       "      <td>female</td>\n",
       "      <td>26.0</td>\n",
       "      <td>0</td>\n",
       "      <td>0</td>\n",
       "      <td>STON/O2. 3101282</td>\n",
       "      <td>7.9250</td>\n",
       "      <td>NaN</td>\n",
       "      <td>S</td>\n",
       "    </tr>\n",
       "    <tr>\n",
       "      <th>3</th>\n",
       "      <td>4</td>\n",
       "      <td>1</td>\n",
       "      <td>1</td>\n",
       "      <td>Futrelle, Mrs. Jacques Heath (Lily May Peel)</td>\n",
       "      <td>female</td>\n",
       "      <td>35.0</td>\n",
       "      <td>1</td>\n",
       "      <td>0</td>\n",
       "      <td>113803</td>\n",
       "      <td>53.1000</td>\n",
       "      <td>C123</td>\n",
       "      <td>S</td>\n",
       "    </tr>\n",
       "    <tr>\n",
       "      <th>4</th>\n",
       "      <td>5</td>\n",
       "      <td>0</td>\n",
       "      <td>3</td>\n",
       "      <td>Allen, Mr. William Henry</td>\n",
       "      <td>male</td>\n",
       "      <td>35.0</td>\n",
       "      <td>0</td>\n",
       "      <td>0</td>\n",
       "      <td>373450</td>\n",
       "      <td>8.0500</td>\n",
       "      <td>NaN</td>\n",
       "      <td>S</td>\n",
       "    </tr>\n",
       "    <tr>\n",
       "      <th>...</th>\n",
       "      <td>...</td>\n",
       "      <td>...</td>\n",
       "      <td>...</td>\n",
       "      <td>...</td>\n",
       "      <td>...</td>\n",
       "      <td>...</td>\n",
       "      <td>...</td>\n",
       "      <td>...</td>\n",
       "      <td>...</td>\n",
       "      <td>...</td>\n",
       "      <td>...</td>\n",
       "      <td>...</td>\n",
       "    </tr>\n",
       "    <tr>\n",
       "      <th>886</th>\n",
       "      <td>887</td>\n",
       "      <td>0</td>\n",
       "      <td>2</td>\n",
       "      <td>Montvila, Rev. Juozas</td>\n",
       "      <td>male</td>\n",
       "      <td>27.0</td>\n",
       "      <td>0</td>\n",
       "      <td>0</td>\n",
       "      <td>211536</td>\n",
       "      <td>13.0000</td>\n",
       "      <td>NaN</td>\n",
       "      <td>S</td>\n",
       "    </tr>\n",
       "    <tr>\n",
       "      <th>887</th>\n",
       "      <td>888</td>\n",
       "      <td>1</td>\n",
       "      <td>1</td>\n",
       "      <td>Graham, Miss. Margaret Edith</td>\n",
       "      <td>female</td>\n",
       "      <td>19.0</td>\n",
       "      <td>0</td>\n",
       "      <td>0</td>\n",
       "      <td>112053</td>\n",
       "      <td>30.0000</td>\n",
       "      <td>B42</td>\n",
       "      <td>S</td>\n",
       "    </tr>\n",
       "    <tr>\n",
       "      <th>888</th>\n",
       "      <td>889</td>\n",
       "      <td>0</td>\n",
       "      <td>3</td>\n",
       "      <td>Johnston, Miss. Catherine Helen \"Carrie\"</td>\n",
       "      <td>female</td>\n",
       "      <td>NaN</td>\n",
       "      <td>1</td>\n",
       "      <td>2</td>\n",
       "      <td>W./C. 6607</td>\n",
       "      <td>23.4500</td>\n",
       "      <td>NaN</td>\n",
       "      <td>S</td>\n",
       "    </tr>\n",
       "    <tr>\n",
       "      <th>889</th>\n",
       "      <td>890</td>\n",
       "      <td>1</td>\n",
       "      <td>1</td>\n",
       "      <td>Behr, Mr. Karl Howell</td>\n",
       "      <td>male</td>\n",
       "      <td>26.0</td>\n",
       "      <td>0</td>\n",
       "      <td>0</td>\n",
       "      <td>111369</td>\n",
       "      <td>30.0000</td>\n",
       "      <td>C148</td>\n",
       "      <td>C</td>\n",
       "    </tr>\n",
       "    <tr>\n",
       "      <th>890</th>\n",
       "      <td>891</td>\n",
       "      <td>0</td>\n",
       "      <td>3</td>\n",
       "      <td>Dooley, Mr. Patrick</td>\n",
       "      <td>male</td>\n",
       "      <td>32.0</td>\n",
       "      <td>0</td>\n",
       "      <td>0</td>\n",
       "      <td>370376</td>\n",
       "      <td>7.7500</td>\n",
       "      <td>NaN</td>\n",
       "      <td>Q</td>\n",
       "    </tr>\n",
       "  </tbody>\n",
       "</table>\n",
       "<p>891 rows × 12 columns</p>\n",
       "</div>"
      ],
      "text/plain": [
       "     PassengerId  Survived  Pclass  \\\n",
       "0              1         0       3   \n",
       "1              2         1       1   \n",
       "2              3         1       3   \n",
       "3              4         1       1   \n",
       "4              5         0       3   \n",
       "..           ...       ...     ...   \n",
       "886          887         0       2   \n",
       "887          888         1       1   \n",
       "888          889         0       3   \n",
       "889          890         1       1   \n",
       "890          891         0       3   \n",
       "\n",
       "                                                  Name     Sex   Age  SibSp  \\\n",
       "0                              Braund, Mr. Owen Harris    male  22.0      1   \n",
       "1    Cumings, Mrs. John Bradley (Florence Briggs Th...  female  38.0      1   \n",
       "2                               Heikkinen, Miss. Laina  female  26.0      0   \n",
       "3         Futrelle, Mrs. Jacques Heath (Lily May Peel)  female  35.0      1   \n",
       "4                             Allen, Mr. William Henry    male  35.0      0   \n",
       "..                                                 ...     ...   ...    ...   \n",
       "886                              Montvila, Rev. Juozas    male  27.0      0   \n",
       "887                       Graham, Miss. Margaret Edith  female  19.0      0   \n",
       "888           Johnston, Miss. Catherine Helen \"Carrie\"  female   NaN      1   \n",
       "889                              Behr, Mr. Karl Howell    male  26.0      0   \n",
       "890                                Dooley, Mr. Patrick    male  32.0      0   \n",
       "\n",
       "     Parch            Ticket     Fare Cabin Embarked  \n",
       "0        0         A/5 21171   7.2500   NaN        S  \n",
       "1        0          PC 17599  71.2833   C85        C  \n",
       "2        0  STON/O2. 3101282   7.9250   NaN        S  \n",
       "3        0            113803  53.1000  C123        S  \n",
       "4        0            373450   8.0500   NaN        S  \n",
       "..     ...               ...      ...   ...      ...  \n",
       "886      0            211536  13.0000   NaN        S  \n",
       "887      0            112053  30.0000   B42        S  \n",
       "888      2        W./C. 6607  23.4500   NaN        S  \n",
       "889      0            111369  30.0000  C148        C  \n",
       "890      0            370376   7.7500   NaN        Q  \n",
       "\n",
       "[891 rows x 12 columns]"
      ]
     },
     "execution_count": 3,
     "metadata": {},
     "output_type": "execute_result"
    }
   ],
   "source": [
    "# pd.set_option('display.max_rows', None)\n",
    "df\n"
   ]
  },
  {
   "cell_type": "code",
   "execution_count": 4,
   "id": "22761bce",
   "metadata": {},
   "outputs": [
    {
     "name": "stdout",
     "output_type": "stream",
     "text": [
      "<class 'pandas.core.frame.DataFrame'>\n",
      "RangeIndex: 891 entries, 0 to 890\n",
      "Data columns (total 12 columns):\n",
      " #   Column       Non-Null Count  Dtype  \n",
      "---  ------       --------------  -----  \n",
      " 0   PassengerId  891 non-null    int64  \n",
      " 1   Survived     891 non-null    int64  \n",
      " 2   Pclass       891 non-null    int64  \n",
      " 3   Name         891 non-null    object \n",
      " 4   Sex          891 non-null    object \n",
      " 5   Age          714 non-null    float64\n",
      " 6   SibSp        891 non-null    int64  \n",
      " 7   Parch        891 non-null    int64  \n",
      " 8   Ticket       891 non-null    object \n",
      " 9   Fare         891 non-null    float64\n",
      " 10  Cabin        204 non-null    object \n",
      " 11  Embarked     889 non-null    object \n",
      "dtypes: float64(2), int64(5), object(5)\n",
      "memory usage: 83.7+ KB\n"
     ]
    }
   ],
   "source": [
    "df.info()"
   ]
  },
  {
   "cell_type": "code",
   "execution_count": 5,
   "id": "2bab2358",
   "metadata": {},
   "outputs": [
    {
     "data": {
      "text/plain": [
       "PassengerId      0\n",
       "Survived         0\n",
       "Pclass           0\n",
       "Name             0\n",
       "Sex              0\n",
       "Age            177\n",
       "SibSp            0\n",
       "Parch            0\n",
       "Ticket           0\n",
       "Fare             0\n",
       "Cabin          687\n",
       "Embarked         2\n",
       "dtype: int64"
      ]
     },
     "execution_count": 5,
     "metadata": {},
     "output_type": "execute_result"
    }
   ],
   "source": [
    "df.isna().sum()"
   ]
  },
  {
   "cell_type": "markdown",
   "id": "72b070d6",
   "metadata": {},
   "source": [
    "Datafraim пассажиров парохода Титаник имеет 891 запись, располагает следующими данными:\n",
    "1.\tSurvived — выжил данный пассажир или нет (0 для умерших, 1 для выживших)\n",
    "2.\tPclass — класс пассажира (1 — высший, 2 — средний, 3 — низший);\n",
    "3.\tName — имя;\n",
    "4.\tSex — пол;\n",
    "5.\tAge — возраст;\n",
    "6.\tSibSp — количество братьев, сестер, сводных братьев, сводных сестер, супругов на борту титаника;\n",
    "7.\tParch — количество родителей, детей (в том числе приемных) на борту титаника;\n",
    "8.\tTicket — номер билета;\n",
    "9.\tFare — плата за проезд;\n",
    "10.\t Cabin — каюта;\n",
    "11.\tEmbarked — порт посадки (C — Шербур; Q — Квинстаун; S — Саутгемптон).\n",
    "\n",
    "Из них пропуски данных есть в столбцах возраст-177, каюта-687 и порт посадки-2\n"
   ]
  },
  {
   "cell_type": "markdown",
   "id": "2ef5ce89",
   "metadata": {},
   "source": [
    "## Предобработка данных"
   ]
  },
  {
   "cell_type": "markdown",
   "id": "f7bd7c40",
   "metadata": {},
   "source": [
    "#### Столбец возраст"
   ]
  },
  {
   "cell_type": "code",
   "execution_count": null,
   "id": "8b93d5a4",
   "metadata": {},
   "outputs": [],
   "source": []
  },
  {
   "cell_type": "code",
   "execution_count": 6,
   "id": "ee11aba6",
   "metadata": {},
   "outputs": [],
   "source": [
    "age_df = df.query(\"Age != Age\")"
   ]
  },
  {
   "cell_type": "code",
   "execution_count": 7,
   "id": "0f2f3af3",
   "metadata": {},
   "outputs": [
    {
     "data": {
      "text/plain": [
       "3    77.0\n",
       "1    17.0\n",
       "2     6.0\n",
       "Name: Pclass, dtype: float64"
      ]
     },
     "execution_count": 7,
     "metadata": {},
     "output_type": "execute_result"
    }
   ],
   "source": [
    "# Класс пассажиров с незаполенным возрастом\n",
    "age_df.Pclass.value_counts(normalize=True).mul(100).round(0)"
   ]
  },
  {
   "cell_type": "code",
   "execution_count": 8,
   "id": "49c7dc7a",
   "metadata": {},
   "outputs": [
    {
     "data": {
      "text/plain": [
       "0    77.0\n",
       "1    15.0\n",
       "8     4.0\n",
       "3     2.0\n",
       "2     2.0\n",
       "Name: SibSp, dtype: float64"
      ]
     },
     "execution_count": 8,
     "metadata": {},
     "output_type": "execute_result"
    }
   ],
   "source": [
    "#Путешествовали с братьями и сестрами, с супругами\n",
    "age_df.SibSp.value_counts(normalize=True).mul(100).round()"
   ]
  },
  {
   "cell_type": "code",
   "execution_count": 9,
   "id": "5bfad8c4",
   "metadata": {},
   "outputs": [
    {
     "data": {
      "text/plain": [
       "0    88.70\n",
       "2     6.78\n",
       "1     4.52\n",
       "Name: Parch, dtype: float64"
      ]
     },
     "execution_count": 9,
     "metadata": {},
     "output_type": "execute_result"
    }
   ],
   "source": [
    "#Путешествовали с родителями или детьми\n",
    "age_df.Parch.value_counts(normalize=True).mul(100).round(2)"
   ]
  },
  {
   "cell_type": "code",
   "execution_count": 10,
   "id": "50a7c5bd",
   "metadata": {},
   "outputs": [
    {
     "data": {
      "text/html": [
       "<div>\n",
       "<style scoped>\n",
       "    .dataframe tbody tr th:only-of-type {\n",
       "        vertical-align: middle;\n",
       "    }\n",
       "\n",
       "    .dataframe tbody tr th {\n",
       "        vertical-align: top;\n",
       "    }\n",
       "\n",
       "    .dataframe thead th {\n",
       "        text-align: right;\n",
       "    }\n",
       "</style>\n",
       "<table border=\"1\" class=\"dataframe\">\n",
       "  <thead>\n",
       "    <tr style=\"text-align: right;\">\n",
       "      <th></th>\n",
       "      <th>index</th>\n",
       "      <th>size</th>\n",
       "    </tr>\n",
       "  </thead>\n",
       "  <tbody>\n",
       "    <tr>\n",
       "      <th>0</th>\n",
       "      <td>female</td>\n",
       "      <td>53</td>\n",
       "    </tr>\n",
       "    <tr>\n",
       "      <th>1</th>\n",
       "      <td>male</td>\n",
       "      <td>124</td>\n",
       "    </tr>\n",
       "  </tbody>\n",
       "</table>\n",
       "</div>"
      ],
      "text/plain": [
       "    index  size\n",
       "0  female    53\n",
       "1    male   124"
      ]
     },
     "execution_count": 10,
     "metadata": {},
     "output_type": "execute_result"
    }
   ],
   "source": [
    "#Пол пассажиров с пропущенным возрастом\n",
    "age_df.groupby(age_df.Sex.tolist(),as_index=False).size()"
   ]
  },
  {
   "cell_type": "code",
   "execution_count": 11,
   "id": "b6ad9299",
   "metadata": {},
   "outputs": [
    {
     "data": {
      "text/plain": [
       "male      70.06\n",
       "female    29.94\n",
       "Name: Sex, dtype: float64"
      ]
     },
     "execution_count": 11,
     "metadata": {},
     "output_type": "execute_result"
    }
   ],
   "source": [
    "# процентное соотношение женщин и мужчин\n",
    "age_df.Sex.value_counts(normalize=True).mul(100).round(2)"
   ]
  },
  {
   "cell_type": "code",
   "execution_count": 12,
   "id": "2e7477fa",
   "metadata": {},
   "outputs": [
    {
     "data": {
      "text/plain": [
       "S    50.85\n",
       "Q    27.68\n",
       "C    21.47\n",
       "Name: Embarked, dtype: float64"
      ]
     },
     "execution_count": 12,
     "metadata": {},
     "output_type": "execute_result"
    }
   ],
   "source": [
    "# место отправки\n",
    "age_df.Embarked.value_counts(normalize=True).mul(100).round(2)"
   ]
  },
  {
   "cell_type": "code",
   "execution_count": 13,
   "id": "d47d35f5",
   "metadata": {},
   "outputs": [
    {
     "data": {
      "text/html": [
       "<div>\n",
       "<style scoped>\n",
       "    .dataframe tbody tr th:only-of-type {\n",
       "        vertical-align: middle;\n",
       "    }\n",
       "\n",
       "    .dataframe tbody tr th {\n",
       "        vertical-align: top;\n",
       "    }\n",
       "\n",
       "    .dataframe thead th {\n",
       "        text-align: right;\n",
       "    }\n",
       "</style>\n",
       "<table border=\"1\" class=\"dataframe\">\n",
       "  <thead>\n",
       "    <tr style=\"text-align: right;\">\n",
       "      <th></th>\n",
       "      <th>index</th>\n",
       "      <th>size</th>\n",
       "    </tr>\n",
       "  </thead>\n",
       "  <tbody>\n",
       "    <tr>\n",
       "      <th>0</th>\n",
       "      <td>0</td>\n",
       "      <td>125</td>\n",
       "    </tr>\n",
       "    <tr>\n",
       "      <th>1</th>\n",
       "      <td>1</td>\n",
       "      <td>52</td>\n",
       "    </tr>\n",
       "  </tbody>\n",
       "</table>\n",
       "</div>"
      ],
      "text/plain": [
       "   index  size\n",
       "0      0   125\n",
       "1      1    52"
      ]
     },
     "execution_count": 13,
     "metadata": {},
     "output_type": "execute_result"
    }
   ],
   "source": [
    "# узнаем соотношение выживших и погибших с пропуском в графе возраст\n",
    "age_df.groupby(age_df.Survived.tolist(),as_index=False).size()"
   ]
  },
  {
   "cell_type": "markdown",
   "id": "df4fe7f1",
   "metadata": {},
   "source": [
    "#### Изучив данные по пропускам в графе возраст, могу сделать вывод, что, в основном, это пассажиры третьего класса -- 77% от все пропусков, 17% первый класс, 6% второй класс. Далее я сделала выборку по родственникам на борту и полу и выяснила, что большинство пропусков по мужчинам, путешествовавшим в одиночку. Иных закономерностей не выявлено. Из 177 человек с незаполненным возрастом погибло 125, возраст 52 выживших нам не известен"
   ]
  },
  {
   "cell_type": "markdown",
   "id": "275537d6",
   "metadata": {},
   "source": [
    "#### Столбец Каюта"
   ]
  },
  {
   "cell_type": "code",
   "execution_count": 14,
   "id": "18da35f5",
   "metadata": {},
   "outputs": [
    {
     "data": {
      "text/plain": [
       "3    70.0\n",
       "2    24.0\n",
       "1     6.0\n",
       "Name: Pclass, dtype: float64"
      ]
     },
     "execution_count": 14,
     "metadata": {},
     "output_type": "execute_result"
    }
   ],
   "source": [
    "cab_df = df.query(\"Cabin != Cabin\")\n",
    "cab_df.Pclass.value_counts(normalize=True).mul(100).round()"
   ]
  },
  {
   "cell_type": "code",
   "execution_count": 15,
   "id": "b0584807",
   "metadata": {},
   "outputs": [
    {
     "data": {
      "text/html": [
       "<div>\n",
       "<style scoped>\n",
       "    .dataframe tbody tr th:only-of-type {\n",
       "        vertical-align: middle;\n",
       "    }\n",
       "\n",
       "    .dataframe tbody tr th {\n",
       "        vertical-align: top;\n",
       "    }\n",
       "\n",
       "    .dataframe thead th {\n",
       "        text-align: right;\n",
       "    }\n",
       "</style>\n",
       "<table border=\"1\" class=\"dataframe\">\n",
       "  <thead>\n",
       "    <tr style=\"text-align: right;\">\n",
       "      <th></th>\n",
       "      <th>index</th>\n",
       "      <th>size</th>\n",
       "    </tr>\n",
       "  </thead>\n",
       "  <tbody>\n",
       "    <tr>\n",
       "      <th>0</th>\n",
       "      <td>0</td>\n",
       "      <td>481</td>\n",
       "    </tr>\n",
       "    <tr>\n",
       "      <th>1</th>\n",
       "      <td>1</td>\n",
       "      <td>206</td>\n",
       "    </tr>\n",
       "  </tbody>\n",
       "</table>\n",
       "</div>"
      ],
      "text/plain": [
       "   index  size\n",
       "0      0   481\n",
       "1      1   206"
      ]
     },
     "execution_count": 15,
     "metadata": {},
     "output_type": "execute_result"
    }
   ],
   "source": [
    "cab_df.groupby(cab_df.Survived.tolist(),as_index=False).size()"
   ]
  },
  {
   "cell_type": "code",
   "execution_count": 16,
   "id": "cc2a83f7",
   "metadata": {},
   "outputs": [
    {
     "data": {
      "text/plain": [
       "342"
      ]
     },
     "execution_count": 16,
     "metadata": {},
     "output_type": "execute_result"
    }
   ],
   "source": [
    "# Всего выживших\n",
    "df.query('Survived == 1').shape[0]"
   ]
  },
  {
   "cell_type": "markdown",
   "id": "c8e74322",
   "metadata": {},
   "source": [
    "#### По пустым ячейкам в графе каюта: 70% незаполненных данных пассажиров третьего класса, 24 второго и 6% первого класса. Всего выжило 342 человека, 206 из них не имеют данных в графе каюта."
   ]
  },
  {
   "cell_type": "markdown",
   "id": "e00f6e60",
   "metadata": {},
   "source": [
    "####  Столбец порт посадки"
   ]
  },
  {
   "cell_type": "code",
   "execution_count": 17,
   "id": "e2471cc1",
   "metadata": {},
   "outputs": [],
   "source": [
    "df.Embarked.fillna('S', inplace = True)"
   ]
  },
  {
   "cell_type": "markdown",
   "id": "f47569f2",
   "metadata": {},
   "source": [
    "#### В интеренте в общем доступе имеется информация о порте пассадки [пассажирок](https://www.encyclopedia-titanica.org/titanic-survivor/martha-evelyn-stone.html) с пропусками, поэтому пропуски в этом столбце заполнены"
   ]
  },
  {
   "cell_type": "markdown",
   "id": "e5f148f7",
   "metadata": {},
   "source": [
    "## Изучим данные пассажиров"
   ]
  },
  {
   "cell_type": "code",
   "execution_count": 18,
   "id": "429abf89",
   "metadata": {},
   "outputs": [],
   "source": [
    "#создаем возрастные группы\n",
    "df.loc[df['Age'].between(0,5), 'age_group'] = '0-5'\n",
    "df.loc[df['Age'].between(6,10), 'age_group'] = '6-10'\n",
    "df.loc[df['Age'].between(11,20), 'age_group'] = '11-20'\n",
    "df.loc[df['Age'].between(21,30), 'age_group'] = '21-30'\n",
    "df.loc[df['Age'].between(31,40), 'age_group'] = '31-40'\n",
    "df.loc[df['Age'].between(41,50), 'age_group'] = '41-50'\n",
    "df.loc[df['Age'].between(51,60), 'age_group'] = '51-60'\n",
    "df.loc[df['Age'].between(61,70), 'age_group'] = '61-70'\n",
    "df.loc[df['Age']>71, 'age_group'] = '70+'\n",
    "df.loc[df['Age'].between(51,60), 'age_group'] = '51-60'\n",
    "pd.set_option('display.max_rows', None)"
   ]
  },
  {
   "cell_type": "code",
   "execution_count": 19,
   "id": "ba48ee23",
   "metadata": {},
   "outputs": [],
   "source": [
    "# функция выделяет номер билета, делит его пополам, сверяет сумму чисел этих половин\n",
    "def lucky_tick(tic):\n",
    "    tic=tic[tic.find(' ')+1:]\n",
    "    tic = re.sub('[^0-9]', '', tic)\n",
    "    if re.search('\\d+', tic):\n",
    "        if len(tic)>1:\n",
    "            tic1 = tic[:len(tic)//2]\n",
    "            tic2 = tic[len(tic)//2 if len(tic)%2 == 0\n",
    "                             else (((len(tic)//2))+1):]\n",
    "            sum = 0\n",
    "            sum2 = 0\n",
    "            for i in tic1:sum += int(i)\n",
    "            for i in tic2:sum2 += int(i)\n",
    "            try:    \n",
    "                if sum == sum2:\n",
    "                    return '1'\n",
    "                elif sum != sum2:\n",
    "                    return '0'\n",
    "            except:\n",
    "                pass\n",
    "            else:return '0'\n",
    "    else:return '0'\n",
    "df['lucky_ticket']=df['Ticket'].apply(lucky_tick)"
   ]
  },
  {
   "cell_type": "code",
   "execution_count": 20,
   "id": "08970d2f",
   "metadata": {},
   "outputs": [
    {
     "data": {
      "text/plain": [
       "342"
      ]
     },
     "execution_count": 20,
     "metadata": {},
     "output_type": "execute_result"
    }
   ],
   "source": [
    "# df с выжившими\n",
    "serv_df= df.query(\"Survived == 1\")\n",
    "serv_df.shape[0]"
   ]
  },
  {
   "cell_type": "code",
   "execution_count": 21,
   "id": "3b27aa13",
   "metadata": {},
   "outputs": [
    {
     "name": "stderr",
     "output_type": "stream",
     "text": [
      "C:\\Users\\Paul\\AppData\\Local\\Temp\\ipykernel_12968\\883809297.py:3: SettingWithCopyWarning: \n",
      "A value is trying to be set on a copy of a slice from a DataFrame.\n",
      "Try using .loc[row_indexer,col_indexer] = value instead\n",
      "\n",
      "See the caveats in the documentation: https://pandas.pydata.org/pandas-docs/stable/user_guide/indexing.html#returning-a-view-versus-a-copy\n",
      "  dead_df['Survived'] = dead_df['Survived'].map({0: 1})\n"
     ]
    },
    {
     "data": {
      "text/plain": [
       "549"
      ]
     },
     "execution_count": 21,
     "metadata": {},
     "output_type": "execute_result"
    }
   ],
   "source": [
    "# df с погибшими\n",
    "dead_df= df.query(\"Survived != 1\")\n",
    "dead_df['Survived'] = dead_df['Survived'].map({0: 1})\n",
    "dead_df.shape[0]"
   ]
  },
  {
   "cell_type": "code",
   "execution_count": 22,
   "id": "543dbc9f",
   "metadata": {},
   "outputs": [
    {
     "data": {
      "text/plain": [
       "male      64.76\n",
       "female    35.24\n",
       "Name: Sex, dtype: float64"
      ]
     },
     "execution_count": 22,
     "metadata": {},
     "output_type": "execute_result"
    }
   ],
   "source": [
    "#Процентное соотношение женщин и мужчин\n",
    "df.Sex.value_counts(normalize=True).mul(100).round(2)"
   ]
  },
  {
   "cell_type": "code",
   "execution_count": 23,
   "id": "caa1809a",
   "metadata": {},
   "outputs": [
    {
     "data": {
      "text/plain": [
       "female    68.13\n",
       "male      31.87\n",
       "Name: Sex, dtype: float64"
      ]
     },
     "execution_count": 23,
     "metadata": {},
     "output_type": "execute_result"
    }
   ],
   "source": [
    "# Соотношение по полу выживших\n",
    "serv_df.Sex.value_counts(normalize=True).mul(100).round(2)"
   ]
  },
  {
   "cell_type": "code",
   "execution_count": 24,
   "id": "fedd71c2",
   "metadata": {},
   "outputs": [
    {
     "data": {
      "text/plain": [
       "<AxesSubplot:xlabel='Sex', ylabel='count'>"
      ]
     },
     "execution_count": 24,
     "metadata": {},
     "output_type": "execute_result"
    },
    {
     "data": {
      "image/png": "[encoded data removed]",
      "text/plain": [
       "<Figure size 640x480 with 1 Axes>"
      ]
     },
     "metadata": {},
     "output_type": "display_data"
    }
   ],
   "source": [
    "# соотношение женщин и мужчин\n",
    "sns.countplot(data=df, x=\"Sex\", hue=\"Survived\", palette = 'Set3')"
   ]
  },
  {
   "cell_type": "code",
   "execution_count": 25,
   "id": "3e09b551",
   "metadata": {},
   "outputs": [
    {
     "data": {
      "image/png": "[encoded data removed]",
      "text/plain": [
       "<Figure size 598x500 with 1 Axes>"
      ]
     },
     "metadata": {},
     "output_type": "display_data"
    }
   ],
   "source": [
    "sns.catplot(data=df,\n",
    "            x='Survived',\n",
    "            y='PassengerId',\n",
    "            hue='Sex', palette = 'Set3');"
   ]
  },
  {
   "cell_type": "code",
   "execution_count": 26,
   "id": "0293f62c",
   "metadata": {},
   "outputs": [
    {
     "data": {
      "text/html": [
       "<div>\n",
       "<style scoped>\n",
       "    .dataframe tbody tr th:only-of-type {\n",
       "        vertical-align: middle;\n",
       "    }\n",
       "\n",
       "    .dataframe tbody tr th {\n",
       "        vertical-align: top;\n",
       "    }\n",
       "\n",
       "    .dataframe thead th {\n",
       "        text-align: right;\n",
       "    }\n",
       "</style>\n",
       "<table border=\"1\" class=\"dataframe\">\n",
       "  <thead>\n",
       "    <tr style=\"text-align: right;\">\n",
       "      <th>Pclass</th>\n",
       "      <th>1</th>\n",
       "      <th>2</th>\n",
       "      <th>3</th>\n",
       "    </tr>\n",
       "    <tr>\n",
       "      <th>Sex</th>\n",
       "      <th></th>\n",
       "      <th></th>\n",
       "      <th></th>\n",
       "    </tr>\n",
       "  </thead>\n",
       "  <tbody>\n",
       "    <tr>\n",
       "      <th>female</th>\n",
       "      <td>91</td>\n",
       "      <td>70</td>\n",
       "      <td>72</td>\n",
       "    </tr>\n",
       "    <tr>\n",
       "      <th>male</th>\n",
       "      <td>45</td>\n",
       "      <td>17</td>\n",
       "      <td>47</td>\n",
       "    </tr>\n",
       "  </tbody>\n",
       "</table>\n",
       "</div>"
      ],
      "text/plain": [
       "Pclass   1   2   3\n",
       "Sex               \n",
       "female  91  70  72\n",
       "male    45  17  47"
      ]
     },
     "execution_count": 26,
     "metadata": {},
     "output_type": "execute_result"
    }
   ],
   "source": [
    "#Процентное соотношение по классам выживших\n",
    "serv_df.pivot_table(values='Survived', index='Sex', columns='Pclass', aggfunc=sum)"
   ]
  },
  {
   "cell_type": "code",
   "execution_count": 27,
   "id": "0e217dd4",
   "metadata": {},
   "outputs": [
    {
     "data": {
      "text/html": [
       "<div>\n",
       "<style scoped>\n",
       "    .dataframe tbody tr th:only-of-type {\n",
       "        vertical-align: middle;\n",
       "    }\n",
       "\n",
       "    .dataframe tbody tr th {\n",
       "        vertical-align: top;\n",
       "    }\n",
       "\n",
       "    .dataframe thead th {\n",
       "        text-align: right;\n",
       "    }\n",
       "</style>\n",
       "<table border=\"1\" class=\"dataframe\">\n",
       "  <thead>\n",
       "    <tr style=\"text-align: right;\">\n",
       "      <th>Pclass</th>\n",
       "      <th>1</th>\n",
       "      <th>2</th>\n",
       "      <th>3</th>\n",
       "    </tr>\n",
       "    <tr>\n",
       "      <th>Sex</th>\n",
       "      <th></th>\n",
       "      <th></th>\n",
       "      <th></th>\n",
       "    </tr>\n",
       "  </thead>\n",
       "  <tbody>\n",
       "    <tr>\n",
       "      <th>female</th>\n",
       "      <td>3</td>\n",
       "      <td>6</td>\n",
       "      <td>72</td>\n",
       "    </tr>\n",
       "    <tr>\n",
       "      <th>male</th>\n",
       "      <td>77</td>\n",
       "      <td>91</td>\n",
       "      <td>300</td>\n",
       "    </tr>\n",
       "  </tbody>\n",
       "</table>\n",
       "</div>"
      ],
      "text/plain": [
       "Pclass   1   2    3\n",
       "Sex                \n",
       "female   3   6   72\n",
       "male    77  91  300"
      ]
     },
     "execution_count": 27,
     "metadata": {},
     "output_type": "execute_result"
    }
   ],
   "source": [
    "#Процентное соотношение по классам выживших\n",
    "dead_df.pivot_table(values='Survived', index='Sex', columns='Pclass', aggfunc=sum)"
   ]
  },
  {
   "cell_type": "code",
   "execution_count": 28,
   "id": "8f42d6dd",
   "metadata": {},
   "outputs": [
    {
     "data": {
      "text/plain": [
       "1    39.77\n",
       "3    34.80\n",
       "2    25.44\n",
       "Name: Pclass, dtype: float64"
      ]
     },
     "execution_count": 28,
     "metadata": {},
     "output_type": "execute_result"
    }
   ],
   "source": [
    "#Процентное соотношение по классам выживших\n",
    "serv_df.Pclass.value_counts(normalize=True).mul(100).round(2)"
   ]
  },
  {
   "cell_type": "code",
   "execution_count": 29,
   "id": "1df053b6",
   "metadata": {},
   "outputs": [
    {
     "data": {
      "text/plain": [
       "<AxesSubplot:xlabel='Pclass', ylabel='count'>"
      ]
     },
     "execution_count": 29,
     "metadata": {},
     "output_type": "execute_result"
    },
    {
     "data": {
      "image/png": "[encoded data removed]",
      "text/plain": [
       "<Figure size 640x480 with 1 Axes>"
      ]
     },
     "metadata": {},
     "output_type": "display_data"
    }
   ],
   "source": [
    "# выжившие/погибшие по классу размещения\n",
    "sns.countplot(data=df, x=\"Pclass\", hue=\"Survived\", palette = 'Set3')"
   ]
  },
  {
   "cell_type": "code",
   "execution_count": null,
   "id": "a53a729a",
   "metadata": {},
   "outputs": [],
   "source": []
  },
  {
   "cell_type": "markdown",
   "id": "55c5f6bb",
   "metadata": {},
   "source": [
    "### Исследуем возраст выживших и умерших"
   ]
  },
  {
   "cell_type": "code",
   "execution_count": 30,
   "id": "ef574331",
   "metadata": {},
   "outputs": [],
   "source": [
    "###Исходя из трети имеющихся данных "
   ]
  },
  {
   "cell_type": "code",
   "execution_count": 31,
   "id": "bfa21bd2",
   "metadata": {},
   "outputs": [
    {
     "data": {
      "image/png": "[encoded data removed]",
      "text/plain": [
       "<Figure size 1500x500 with 1 Axes>"
      ]
     },
     "metadata": {},
     "output_type": "display_data"
    }
   ],
   "source": [
    "plt.figure(figsize=(15,5))\n",
    "a = sns.countplot(data=serv_df, x=\"age_group\", hue='Pclass', order=serv_df[\"age_group\"]\\\n",
    "                  .value_counts(ascending=True).index, palette = 'Set3')\n",
    "sns.move_legend(a, \"center left\")"
   ]
  },
  {
   "cell_type": "code",
   "execution_count": 32,
   "id": "822bdccc",
   "metadata": {},
   "outputs": [
    {
     "data": {
      "image/png": "[encoded data removed]",
      "text/plain": [
       "<Figure size 1500x500 with 1 Axes>"
      ]
     },
     "metadata": {},
     "output_type": "display_data"
    }
   ],
   "source": [
    "plt.figure(figsize=(15,5))\n",
    "a = sns.countplot(data=dead_df, x=\"age_group\", hue='Pclass', order=dead_df[\"age_group\"].value_counts(ascending=True).index, palette = 'Set3')\n",
    "sns.move_legend(a, \"center left\")"
   ]
  },
  {
   "cell_type": "markdown",
   "id": "758c5834",
   "metadata": {},
   "source": [
    "### Мужчин на борту было -- 64,76% , женщин – 35,24%, но спаслось значительно больше представительниц прекрасного пола – 68,13 % против 31,87% мужчина. \n",
    "### Рассматривая классы размещения, мы видим, что распределение было следующим: на первый класс приходится 24,24%, на второй – 20,65 и на третий класс 55.11%. Можно сделать вывод, что погибли преимущественно представители третьего класса. Статистика по выжившим говорит нам, что среди них представителей первого класса 39,77%, второго 34,80%, третьего 25,44%. На графике наглядно видно, что почти два из трех представителей первого класса спаслись, во втором вероятность была  2 из 3 в третьем только 1 человек, из трех спасся. Почти все женщины первого и второго класса спаслись.\n",
    "### Выживаемость на борту корабля напрямую зависило от уровня благосостояния.\n"
   ]
  },
  {
   "cell_type": "markdown",
   "id": "eef89217",
   "metadata": {},
   "source": [
    "### Выдвинем гипотезу, что счастливый билетик –спас его обладателя. Для этого создадим функцию, которая будет делить номер пополам и проверять, равны ли они, если равны-билет счастливый. Сверим процент выживаемости с счастливым билетиком и без него."
   ]
  },
  {
   "cell_type": "code",
   "execution_count": 60,
   "id": "f902e4ea",
   "metadata": {},
   "outputs": [
    {
     "data": {
      "text/html": [
       "<div>\n",
       "<style scoped>\n",
       "    .dataframe tbody tr th:only-of-type {\n",
       "        vertical-align: middle;\n",
       "    }\n",
       "\n",
       "    .dataframe tbody tr th {\n",
       "        vertical-align: top;\n",
       "    }\n",
       "\n",
       "    .dataframe thead th {\n",
       "        text-align: right;\n",
       "    }\n",
       "</style>\n",
       "<table border=\"1\" class=\"dataframe\">\n",
       "  <thead>\n",
       "    <tr style=\"text-align: right;\">\n",
       "      <th>Survived</th>\n",
       "      <th>0</th>\n",
       "      <th>1</th>\n",
       "      <th>Итог</th>\n",
       "    </tr>\n",
       "    <tr>\n",
       "      <th>Pclass</th>\n",
       "      <th></th>\n",
       "      <th></th>\n",
       "      <th></th>\n",
       "    </tr>\n",
       "  </thead>\n",
       "  <tbody>\n",
       "    <tr>\n",
       "      <th>1</th>\n",
       "      <td>3</td>\n",
       "      <td>9</td>\n",
       "      <td>12</td>\n",
       "    </tr>\n",
       "    <tr>\n",
       "      <th>2</th>\n",
       "      <td>4</td>\n",
       "      <td>1</td>\n",
       "      <td>5</td>\n",
       "    </tr>\n",
       "    <tr>\n",
       "      <th>3</th>\n",
       "      <td>27</td>\n",
       "      <td>11</td>\n",
       "      <td>38</td>\n",
       "    </tr>\n",
       "    <tr>\n",
       "      <th>Итог</th>\n",
       "      <td>34</td>\n",
       "      <td>21</td>\n",
       "      <td>55</td>\n",
       "    </tr>\n",
       "  </tbody>\n",
       "</table>\n",
       "</div>"
      ],
      "text/plain": [
       "Survived   0   1  Итог\n",
       "Pclass                \n",
       "1          3   9    12\n",
       "2          4   1     5\n",
       "3         27  11    38\n",
       "Итог      34  21    55"
      ]
     },
     "execution_count": 60,
     "metadata": {},
     "output_type": "execute_result"
    }
   ],
   "source": [
    "# процент счастливых билетов у выживших\n",
    "df[df.lucky_ticket == '1'].pivot_table(values='PassengerId', index=['Pclass'],\n",
    "                    columns=['Survived'], aggfunc=len, margins= True , margins_name='Итог')"
   ]
  },
  {
   "cell_type": "code",
   "execution_count": 36,
   "id": "08a214b6",
   "metadata": {},
   "outputs": [
    {
     "data": {
      "image/png": "[encoded data removed]",
      "text/plain": [
       "<Figure size 572.111x500 with 1 Axes>"
      ]
     },
     "metadata": {},
     "output_type": "display_data"
    }
   ],
   "source": [
    "sns.catplot(data=df,\n",
    "            x='lucky_ticket',\n",
    "            y='PassengerId',\n",
    "            hue='Survived', palette = 'Set3');"
   ]
  },
  {
   "cell_type": "markdown",
   "id": "00e4b3f8",
   "metadata": {},
   "source": [
    "Из 55 счастливых билетов, действительно счастливыми оказались 21.У представителей первого класса 12 билетов, среди них 9 у выживших. Во втором классе только 1 из пяти. В третьем классе из 38 только 11 у выживших. Можно утверждать, что касательно Титаника нет никакой разницы обычный билет или счастливый, играло роль положение и пол."
   ]
  }
 ],
 "metadata": {
  "kernelspec": {
   "display_name": "Python 3 (ipykernel)",
   "language": "python",
   "name": "python3"
  },
  "language_info": {
   "codemirror_mode": {
    "name": "ipython",
    "version": 3
   },
   "file_extension": ".py",
   "mimetype": "text/x-python",
   "name": "python",
   "nbconvert_exporter": "python",
   "pygments_lexer": "ipython3",
   "version": "3.9.13"
  }
 },
 "nbformat": 4,
 "nbformat_minor": 5
}
